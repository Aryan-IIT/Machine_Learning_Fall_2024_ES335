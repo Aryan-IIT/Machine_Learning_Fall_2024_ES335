{
 "cells": [
  {
   "cell_type": "markdown",
   "metadata": {},
   "source": [
    "# ES 335 Prerequisite Test : Machine Learning\n",
    "\n",
    "Details: Aryan Solanki (23110049) - BTech 2023, Artificial Intelligence "
   ]
  },
  {
   "cell_type": "markdown",
   "metadata": {},
   "source": [
    "## Essential Libraries"
   ]
  },
  {
   "cell_type": "code",
   "execution_count": 130,
   "metadata": {},
   "outputs": [],
   "source": [
    "import pandas as pd\n",
    "import numpy as np\n",
    "import time\n",
    "import random"
   ]
  },
  {
   "cell_type": "markdown",
   "metadata": {},
   "source": [
    "## Question 1 \n",
    "How many multiplications and additions do you need to perform a matrix multiplication between a (n, k) and (k, m) matrix? Explain.\n",
    "## Solution \n",
    "\n",
    "Let us assume two matrices, A of size (n,k) and B of size (k,m).\n",
    "\n",
    "### Multiplication \n",
    "\n",
    "Let (n,k,m) = (3,2,4)\n",
    "\n",
    "**Matrix A**\n",
    "|   |   |\n",
    "|---|---|\n",
    "| x1 | x2 |\n",
    "| y1 | y2 |\n",
    "| z1 | z2 |\n",
    "\n",
    "\n",
    "**Matrix B**\n",
    "|   |   |   |   |\n",
    "|---|---|---|---|\n",
    "| a1 | a2 | a3 | a4 |\n",
    "| b1 | b2 | b3 | b4 |\n",
    "\n",
    "So, if I perform Matrix multiplication of A and B, I can break it down in the form of multiple dot products of two vectors.\n",
    "\n",
    "=> Example: Row 1 of the multiplied matrix will be : \n",
    "\n",
    "    [x1.a1 + x2.b1 , x1.a2 + x2.b1, x1.a3 + x2.b3, x1.a4 +x2.b4 ]\n",
    "\n",
    "Here, I can see, that for the first row, I need to perform **m×k** multiplications. Where m indicates the columns, k indicates the row of matrix B. Or more simply, I can see 4 small units (denoted by m) and each unit having 2 multiplications inside of it (denoted by k). Hence total multiplications of a single row are m×k. \n",
    "\n",
    "Furthermore, there are n such rows (3 in our case), \n",
    "\n",
    "So, final answer => **n×m×k**\n",
    "\n",
    "### Addition \n",
    "\n",
    "Similiarly, if we build upon from our previous example. \n",
    "\n",
    "If I go on to build the first row of my multiplied matrix, I can see again, that there are 4 small units (cells denoted by m) and each cell has 1 addition only (denoted by (k-1)). So for a single row, the total number of additions are **m×(k-1)**.\n",
    "\n",
    "Furthermore, there are n such rows. \n",
    "\n",
    "So, final answer => **n×m×(k-1)**"
   ]
  },
  {
   "cell_type": "markdown",
   "metadata": {},
   "source": [
    "## Question 2\n",
    "Write Python code to multiply the above two matrices. Solve using list of lists and then use numpy. Compare the timing of both solutions. Which one is faster? Why?\n",
    "\n",
    "## Solution \n",
    "\n",
    "Based on certain experimentations with the proposed question, I noticed that the time difference for smaller matrices, is approximately 0.5 to 1s. However, as we increase the size of the matrices, we can see a significant differnce between the time taken by both methods.\n",
    "\n",
    "**Numpy is clearly faster.**"
   ]
  },
  {
   "cell_type": "markdown",
   "metadata": {},
   "source": [
    "### parameters"
   ]
  },
  {
   "cell_type": "code",
   "execution_count": 131,
   "metadata": {},
   "outputs": [],
   "source": [
    "# we could increase them so as see the difference between np and lists for larger matrices. \n",
    "\n",
    "n = 10\n",
    "k = 8\n",
    "m = 20\n",
    "\n",
    "#this is the limit of the numbers(integers) that are being assigned in our matrices\n",
    "limit = 5\n"
   ]
  },
  {
   "cell_type": "markdown",
   "metadata": {},
   "source": [
    "### list function "
   ]
  },
  {
   "cell_type": "code",
   "execution_count": 132,
   "metadata": {},
   "outputs": [],
   "source": [
    "#list \n",
    "def list_time():\n",
    "    start_time = time.time()\n",
    "\n",
    "    list_1 = []\n",
    "    for i in range(n):\n",
    "        temp_list=[]\n",
    "        for j in range(k):\n",
    "            temp_list.append(random.randint(0,limit))\n",
    "\n",
    "        list_1.append(temp_list)\n",
    "        \n",
    "    # print(len(list_1),len(list_1[0])) [can be used to check dimension]\n",
    "    # print(list_1) [used to see contents of list one]\n",
    "\n",
    "    list_2 = []\n",
    "    for i in range(k):\n",
    "        temp_list=[]\n",
    "        for j in range(m):\n",
    "            temp_list.append(random.randint(0,limit))\n",
    "\n",
    "        list_2.append(temp_list)\n",
    "\n",
    "    # print(len(list_2),len(list_2[0])) [can be used to check dimension]\n",
    "    # print(list_2) [used to see contents of list two]\n",
    "\n",
    "    #transpose of list 2 [essential to perform matrix multiplication in code]\n",
    "    #* unpacks 2D matrix into row blocks -> zip takes multiple iterables and then we perform list comprehension\n",
    "    list_2_trans=[list(i) for i in zip(*list_2)]\n",
    "\n",
    "    ans_list=[]\n",
    "    for i in range(n):\n",
    "        temp_list=[]\n",
    "        for j in range(m):\n",
    "            prod = 0\n",
    "            for index in range(len(list_1[i])):\n",
    "                prod+=list_1[i][index]*list_2_trans[j][index]\n",
    "            \n",
    "            temp_list.append(prod)\n",
    "        ans_list.append(temp_list)\n",
    "\n",
    "    # print(ans_list)\n",
    "\n",
    "    end_time = time.time()\n",
    "\n",
    "    return float(end_time-start_time)"
   ]
  },
  {
   "cell_type": "markdown",
   "metadata": {},
   "source": [
    "### numpy function "
   ]
  },
  {
   "cell_type": "code",
   "execution_count": 133,
   "metadata": {},
   "outputs": [],
   "source": [
    "#numpy \n",
    "def numpy_time():\n",
    "    start_time = time.time()\n",
    "\n",
    "    a1 = np.random.randint(limit, size=(n,k))\n",
    "    a2 = np.random.randint(limit, size=(k,m))\n",
    "\n",
    "    ans = np.dot(a1,a2)\n",
    "\n",
    "    # print(ans)\n",
    "\n",
    "    end_time = time.time()\n",
    "\n",
    "    return float(end_time-start_time)"
   ]
  },
  {
   "cell_type": "markdown",
   "metadata": {},
   "source": [
    "### comparison"
   ]
  },
  {
   "cell_type": "code",
   "execution_count": 134,
   "metadata": {},
   "outputs": [
    {
     "name": "stdout",
     "output_type": "stream",
     "text": [
      "We ran 100 iterations, with fixed parameters, and then on average we are checking what is faster:\n",
      "Numpy Average time for parameters 10, 8, 20\n",
      "0.00016968727111816407\n",
      "Lists Average time for parameters 10, 8, 20\n",
      "0.0003909039497375488\n"
     ]
    }
   ],
   "source": [
    "np_time = []\n",
    "lst_time = []\n",
    "for _ in range(100):\n",
    "    np_time.append(numpy_time())\n",
    "    lst_time.append(list_time())\n",
    "\n",
    "print(\"We ran 100 iterations, with fixed parameters, and then on average we are checking what is faster:\")\n",
    "\n",
    "print(\"Numpy Average time for parameters {}, {}, {}\".format(n,k,m))\n",
    "print(np.mean(np_time))\n",
    "\n",
    "\n",
    "print(\"Lists Average time for parameters {}, {}, {}\".format(n,k,m))\n",
    "print(np.mean(lst_time))"
   ]
  },
  {
   "cell_type": "markdown",
   "metadata": {},
   "source": [
    "### Reasoning \n",
    "\n",
    "There are multiple reasons as to why np is faster than lists, few are as follows (explained in a simple sense):\n",
    "1. **Numpy Library is written in C.** The fundamental nature of C allows it to be faster than the same code written in python, as is the case of lists. \n",
    "2. **Numpy uses parallelism.** It is the ability to breakdown a given computational task, into smaller sub tasks, so that they can be carried out(allocated) on different processors for execution. "
   ]
  },
  {
   "cell_type": "markdown",
   "metadata": {},
   "source": [
    "## Question 3 \n",
    "Finding the highest element in a list requires one pass of the array. Finding the second highest element requires 2 passes of the the array. Using this method, what is the time complexity of finding the median of the array? Can you suggest a better method? Can you implement both these methods in Python and compare against numpy.median routine in terms of time?\n",
    "\n",
    "## Solution \n",
    "\n",
    "### Original Method\n",
    "Let the size of the array be n. \n",
    "\n",
    "So, Expense of every pass = O(n)\n",
    "\n",
    "Since I require x number of passes to find the xth highest element of the array, so if x = median of the array: then number of that pass would be proportional to n/2 (if even) or floor(n/2) (if odd).\n",
    "\n",
    "Therefore the overall Time complexity = O(n×n/2) => **O($n^2$)**\n",
    "\n",
    "(This could be loosely defined as insertion sort)\n",
    "\n",
    "### Better Method \n",
    "\n",
    "**Method**: sort the array, and then locate the middle element (median). \n",
    "\n",
    "**Note:**\n",
    "\n",
    "if I have a sorted array, with indexing starting at zero, then:\n",
    "\n",
    "If n = even, \n",
    "\n",
    "    Median = (arr[n/2 - 1] + arr[n/2])/2\n",
    "\n",
    "If n = odd, \n",
    "\n",
    "    Median =  arr[floor(n/2)] \n",
    "\n",
    "Expense of locating an element based on index = constant time = O(1). \n",
    "\n",
    "Therefore, The overall time complexity => \n",
    "\n",
    "[Time complexity of sorting]+[Time complexity of locating]\n",
    "\n",
    "Answer => O(n×logn) + O(1) = **O(n×log(n))**\n",
    "\n",
    "(the best method however, would be Quickselect, where I would get O(n))"
   ]
  },
  {
   "cell_type": "code",
   "execution_count": 135,
   "metadata": {},
   "outputs": [
    {
     "name": "stdout",
     "output_type": "stream",
     "text": [
      "[ 0 43 57 97 28 51 15 62 40 10 10 97 20 94 64 48 42 26 12  7 51]\n",
      "42.0\n"
     ]
    }
   ],
   "source": [
    "# building a 1D array\n",
    "# for simplicity, let us assume n = odd always. \n",
    "\n",
    "n = 21\n",
    "a = np.random.randint(100, size = (n))\n",
    "print(a)\n",
    "print(np.median(a))"
   ]
  },
  {
   "cell_type": "code",
   "execution_count": 136,
   "metadata": {},
   "outputs": [
    {
     "name": "stdout",
     "output_type": "stream",
     "text": [
      "42\n"
     ]
    }
   ],
   "source": [
    "# original method (insertion sort)\n",
    "\n",
    "def og_method(arra):\n",
    "\n",
    "    for i in range(1, len(arra)):\n",
    "\n",
    "        key = arra[i]\n",
    "        j = i-1\n",
    "\n",
    "        while j >= 0 and key < arra[j] :\n",
    "                arra[j + 1] = arra[j]\n",
    "                j -= 1\n",
    "        arra[j + 1] = key    \n",
    "    \n",
    "    return arra[int(len(arra)/2)] \n",
    "\n",
    "print(og_method(a))"
   ]
  },
  {
   "cell_type": "code",
   "execution_count": 137,
   "metadata": {},
   "outputs": [
    {
     "name": "stdout",
     "output_type": "stream",
     "text": [
      "42\n"
     ]
    }
   ],
   "source": [
    "# better method \n",
    "# using inbuilt sort \n",
    "\n",
    "def better_method(arr):\n",
    "    return sorted(arr)[int(len(arr)/2)]\n",
    "\n",
    "print(better_method(a))"
   ]
  },
  {
   "cell_type": "code",
   "execution_count": 138,
   "metadata": {},
   "outputs": [
    {
     "name": "stdout",
     "output_type": "stream",
     "text": [
      "The average time taken for 1D array of length 5001 in ms is: \n",
      "Original Method : 2450.1358032226562\n",
      "Better Method : 0.0\n",
      "Numpy Routine Method : 0.0\n"
     ]
    }
   ],
   "source": [
    "#comparing time \n",
    "\n",
    "#defining \n",
    "\n",
    "n = 5001\n",
    "time_og = []\n",
    "time_better = []\n",
    "time_np = []\n",
    "\n",
    "for i in range(5):\n",
    "    a = np.random.randint(100, size = (n))\n",
    "    #one\n",
    "    start = time.time()\n",
    "    median_1 = og_method(a)\n",
    "    end = time.time()\n",
    "    time_og.append(1000*(end-start))\n",
    "    # print(\"Time taken for original method (ms):\" + str(1000*(end-start)))\n",
    "\n",
    "    #two\n",
    "    start = time.time()\n",
    "    median_2 = og_method(a)\n",
    "    end = time.time()\n",
    "    time_better.append(1000*(end-start))\n",
    "    # print(\"Time taken for better method (ms):\" + str(1000*(end-start)))\n",
    "\n",
    "    #three\n",
    "    start = time.time()\n",
    "    median_3 = np.median(a)\n",
    "    end = time.time()\n",
    "    time_np.append(1000*(end-start))\n",
    "    # print(\"Time taken for numpy routine method (ms):\" + str(1000*(end-start)))\n",
    "\n",
    "print(\"The average time taken for 1D array of length {} in ms is: \".format(n))\n",
    "print(\"Original Method : \"+ str(np.mean(time_og)))\n",
    "print(\"Better Method : \"+ str(np.mean(time_better)))\n",
    "print(\"Numpy Routine Method : \"+ str(np.mean(time_np)))"
   ]
  },
  {
   "cell_type": "markdown",
   "metadata": {},
   "source": [
    "### Conclusion \n",
    "\n",
    "The numpy.median routine is much faster than the other two implementations. "
   ]
  },
  {
   "cell_type": "markdown",
   "metadata": {},
   "source": [
    "## Question 4 \n",
    "What is the gradient of the following function with respect to x and y?\n",
    "\n",
    "$$\n",
    "f(x,y) = (x^2)y + y^3\\sin(x)\n",
    "$$\n",
    "\n",
    "## Solution\n"
   ]
  },
  {
   "cell_type": "markdown",
   "metadata": {},
   "source": [
    "### Gradient wrt x\n",
    "$$\n",
    "\\frac{\\partial f}{\\partial x} = 2xy + (y^3)\\cos(x)\n",
    "$$\n",
    "\n",
    "### Gradient wrt y\n",
    "$$\n",
    "\\frac{\\partial f}{\\partial y} = x^2 + 3 y^2 \\sin(x)\n",
    "$$"
   ]
  },
  {
   "cell_type": "markdown",
   "metadata": {},
   "source": [
    "## Question 5 \n",
    "\n",
    "Use JAX to confirm the gradient evaluated by your method matches the analytical solution corresponding to a few random values of x and y\n",
    "\n",
    "## Solution"
   ]
  },
  {
   "cell_type": "code",
   "execution_count": 139,
   "metadata": {},
   "outputs": [],
   "source": [
    "import jax.numpy as jnp\n",
    "from jax import grad"
   ]
  },
  {
   "cell_type": "code",
   "execution_count": 140,
   "metadata": {},
   "outputs": [
    {
     "name": "stdout",
     "output_type": "stream",
     "text": [
      "Explicit Gradient Function wrt x: -177.84\n",
      "Explicit Gradient Function wrt x: 24.24\n",
      "JAX Gradient Function wrt x:  -177.83838\n",
      "JAX Gradient Function wrt y:  24.24096\n",
      "\n",
      "\n",
      "Explicit Gradient Function wrt x: -744417.64\n",
      "Explicit Gradient Function wrt x: 7662.84\n",
      "JAX Gradient Function wrt x:  -744417.7\n",
      "JAX Gradient Function wrt y:  7662.84\n",
      "\n",
      "\n",
      "Explicit Gradient Function wrt x: -151003.70\n",
      "Explicit Gradient Function wrt x: 37555.13\n",
      "JAX Gradient Function wrt x:  -151003.69\n",
      "JAX Gradient Function wrt y:  37555.133\n",
      "\n",
      "\n",
      "Explicit Gradient Function wrt x: 326526.70\n",
      "Explicit Gradient Function wrt x: -4975.16\n",
      "JAX Gradient Function wrt x:  326526.7\n",
      "JAX Gradient Function wrt y:  -4975.161\n",
      "\n",
      "\n"
     ]
    }
   ],
   "source": [
    "def fn (x,y):\n",
    "    return (x*x)*y +(y*y*y)*jnp.sin(x)\n",
    "\n",
    "def f_x(x):\n",
    "    return 2*x*y + (y**3)*np.cos(x)\n",
    "\n",
    "def f_y(y):\n",
    "    return x**2 + 3*(y**2)*np.sin(x)\n",
    "\n",
    "for i in range(4):\n",
    "    x,y = random.randint(0,100),random.randint(0,100)\n",
    "\n",
    "    xx, yy = grad(fn, argnums=(0, 1))(float(x), float(y))\n",
    "\n",
    "    print(f\"Explicit Gradient Function wrt x: {f_x(x):.2f}\")\n",
    "    print(f\"Explicit Gradient Function wrt x: {f_y(y):.2f}\")\n",
    "    print(\"JAX Gradient Function wrt x: \", xx)\n",
    "    print(\"JAX Gradient Function wrt y: \", yy)\n",
    "    print(\"\\n\")\n"
   ]
  },
  {
   "cell_type": "markdown",
   "metadata": {},
   "source": [
    "## Question 6 \n",
    "Use sympy to confirm that you obtain the same gradient analytically.\n",
    "\n",
    "## Solution"
   ]
  },
  {
   "cell_type": "code",
   "execution_count": 141,
   "metadata": {},
   "outputs": [],
   "source": [
    "import sympy as sy"
   ]
  },
  {
   "cell_type": "code",
   "execution_count": 142,
   "metadata": {},
   "outputs": [],
   "source": [
    "x,y = sy.symbols('x y')\n",
    "\n",
    "func = (x*x)*y +(y*y*y)*sy.sin(x)"
   ]
  },
  {
   "cell_type": "code",
   "execution_count": 143,
   "metadata": {},
   "outputs": [
    {
     "name": "stdout",
     "output_type": "stream",
     "text": [
      "Partial differentiation wrt x: \n"
     ]
    },
    {
     "data": {
      "text/latex": [
       "$\\displaystyle 2 x y + y^{3} \\cos{\\left(x \\right)}$"
      ],
      "text/plain": [
       "2*x*y + y**3*cos(x)"
      ]
     },
     "execution_count": 143,
     "metadata": {},
     "output_type": "execute_result"
    }
   ],
   "source": [
    "print(\"Partial differentiation wrt x: \")\n",
    "sy.diff(func,x)"
   ]
  },
  {
   "cell_type": "code",
   "execution_count": 144,
   "metadata": {},
   "outputs": [
    {
     "name": "stdout",
     "output_type": "stream",
     "text": [
      "Partial differentiation wrt y: \n"
     ]
    },
    {
     "data": {
      "text/latex": [
       "$\\displaystyle x^{2} + 3 y^{2} \\sin{\\left(x \\right)}$"
      ],
      "text/plain": [
       "x**2 + 3*y**2*sin(x)"
      ]
     },
     "execution_count": 144,
     "metadata": {},
     "output_type": "execute_result"
    }
   ],
   "source": [
    "print(\"Partial differentiation wrt y: \")\n",
    "sy.diff(func,y)"
   ]
  },
  {
   "cell_type": "markdown",
   "metadata": {},
   "source": [
    "## Question 7 \n",
    "\n",
    "Create a Python nested dictionary to represent hierarchical information. We want to store record of students and their marks. Something like:\n",
    "\n",
    "1. 2022\n",
    "    1. Branch 1\n",
    "        1. Roll Number: 1, Name: N, Marks:\n",
    "            1. Maths: 100, English: 70 …\n",
    "    2. Branch 2\n",
    "2. 2023\n",
    "    1. Branch 1\n",
    "    2. Branch 2\n",
    "3. 2024\n",
    "    1. Branch 1\n",
    "    2. Branch 2\n",
    "4. 2025\n",
    "    1. Branch 1\n",
    "    2. Branch 2\n",
    "\n",
    "## Solution"
   ]
  },
  {
   "cell_type": "code",
   "execution_count": 145,
   "metadata": {},
   "outputs": [],
   "source": [
    "dict = {\n",
    "    \"2022\": {\n",
    "        \"Branch 1\" : { \n",
    "                        \"Roll Number = 1 and Name = N\"\n",
    "                        : {\"Math\":100,\"English\":70},\n",
    "                        \"Roll Number = 2 and Name = M\"\n",
    "                        : {\"Math\":90,\"English\":78}\n",
    "                     },\n",
    "        \"Branch 2\" : {}\n",
    "\n",
    "            },\n",
    "   \"2023\": {\n",
    "       \"Branch 1\" : {},\n",
    "       \"Branch 2\" : {}\n",
    "   },\n",
    "   \"2024\": {\n",
    "       \"Branch 1\" : {},\n",
    "       \"Branch 2\" : {}\n",
    "   },\n",
    "   \"2025\": {\n",
    "       \"Branch 1\" : {},\n",
    "       \"Branch 2\" : {}\n",
    "   }\n",
    "}"
   ]
  },
  {
   "cell_type": "markdown",
   "metadata": {},
   "source": [
    "## Question 8 \n",
    "Store the same information using Python classes. We have an overall database which is a list of year objects. Each year contains a list of branches. Each branch contains a list of students. Each student has some properties like name, roll number and has marks in some subjects.\n",
    "\n",
    "## Solution"
   ]
  },
  {
   "cell_type": "code",
   "execution_count": 146,
   "metadata": {},
   "outputs": [
    {
     "name": "stdout",
     "output_type": "stream",
     "text": [
      "Database: [Year: 2022, Branches: [Branch: Branch 1, Students: [Roll Number: 1, Name: N, Marks: {'Math': 100, 'English': 70}, Roll Number: 2, Name: M, Marks: {'Math': 90, 'English': 78}], Branch: Branch 2, Students: []], Year: 2023, Branches: [], Year: 2024, Branches: [], Year: 2025, Branches: []]\n"
     ]
    }
   ],
   "source": [
    "class Student:\n",
    "    def __init__(self, roll_number, name, marks):\n",
    "        self.roll_number = roll_number\n",
    "        self.name = name\n",
    "        self.marks = marks\n",
    "\n",
    "    def __str__(self):\n",
    "        return f\"Roll Number: {self.roll_number}, Name: {self.name}, Marks: {self.marks}\"\n",
    "\n",
    "class Branch:\n",
    "    def __init__(self, name):\n",
    "        self.name = name\n",
    "        self.students = []\n",
    "\n",
    "    def add_student(self, student):\n",
    "        self.students.append(student)\n",
    "\n",
    "    def __str__(self):\n",
    "        students_str = \", \".join(str(student) for student in self.students)\n",
    "        return f\"Branch: {self.name}, Students: [{students_str}]\"\n",
    "\n",
    "class Year:\n",
    "    def __init__(self, year):\n",
    "        self.year = year\n",
    "        self.branches = {}\n",
    "\n",
    "    def add_branch(self, branch):\n",
    "        self.branches[branch.name] = branch\n",
    "\n",
    "    def __str__(self):\n",
    "        branches_str = \", \".join(str(branch) for branch in self.branches.values())\n",
    "        return f\"Year: {self.year}, Branches: [{branches_str}]\"\n",
    "\n",
    "class Database:\n",
    "    def __init__(self):\n",
    "        self.years = {}\n",
    "\n",
    "    def add_year(self, year):\n",
    "        self.years[year.year] = year\n",
    "\n",
    "    def __str__(self):\n",
    "        years_str = \", \".join(str(year) for year in self.years.values())\n",
    "        return f\"Database: [{years_str}]\"\n",
    "\n",
    "#db object of Database class\n",
    "database = Database()\n",
    "\n",
    "#years object of years class \n",
    "year_2022 = Year(2022)\n",
    "year_2023 = Year(2023)\n",
    "year_2024 = Year(2024)\n",
    "year_2025 = Year(2025)\n",
    "\n",
    "#branches object of branch class\n",
    "branch1_2022 = Branch(\"Branch 1\")\n",
    "branch2_2022 = Branch(\"Branch 2\")\n",
    "\n",
    "#student objects of student class\n",
    "student1 = Student(1, \"N\", {\"Math\": 100, \"English\": 70})\n",
    "student2 = Student(2, \"M\", {\"Math\": 90, \"English\": 78})\n",
    "\n",
    "branch1_2022.add_student(student1)\n",
    "branch1_2022.add_student(student2)\n",
    "\n",
    "#branch object passed to year object\n",
    "year_2022.add_branch(branch1_2022)\n",
    "year_2022.add_branch(branch2_2022)\n",
    "\n",
    "#year object passed to database object\n",
    "database.add_year(year_2022)\n",
    "database.add_year(year_2023)\n",
    "database.add_year(year_2024)\n",
    "database.add_year(year_2025)\n",
    "\n",
    "print(database)\n"
   ]
  },
  {
   "cell_type": "markdown",
   "metadata": {},
   "source": [
    "## Question 9 \n",
    "\n",
    "Using matplotlib plot the following functions on the domain: x = 0.5 to 100.0 in steps of 0.5.\n",
    "\n",
    "1. $y = x$\n",
    "2. $y = x^2$\n",
    "3. $y = \\frac{x^3}{100}$\n",
    "4. $y = \\sin(x)$\n",
    "5. $y = \\frac{\\sin(x)}{x}$\n",
    "6. $y = \\log(x)$\n",
    "7. $y = e^x$\n",
    "\n",
    "## Solution"
   ]
  },
  {
   "cell_type": "code",
   "execution_count": 147,
   "metadata": {},
   "outputs": [],
   "source": [
    "import matplotlib.pyplot as plt"
   ]
  },
  {
   "cell_type": "code",
   "execution_count": 148,
   "metadata": {},
   "outputs": [
    {
     "data": {
      "image/png": "[encoded data removed]",
      "text/plain": [
       "<Figure size 400x200 with 1 Axes>"
      ]
     },
     "metadata": {},
     "output_type": "display_data"
    }
   ],
   "source": [
    "x = np.arange(0.5,100,0.5)\n",
    "plt_ = plt.figure(figsize=(4, 2))\n",
    "plt.plot(x,x,color='green')\n",
    "plt.show()"
   ]
  },
  {
   "cell_type": "code",
   "execution_count": 149,
   "metadata": {},
   "outputs": [
    {
     "data": {
      "image/png": "[encoded data removed]",
      "text/plain": [
       "<Figure size 400x200 with 1 Axes>"
      ]
     },
     "metadata": {},
     "output_type": "display_data"
    }
   ],
   "source": [
    "plt_ = plt.figure(figsize=(4, 2))\n",
    "plt.plot(x,x**2,color='green')\n",
    "plt.show()"
   ]
  },
  {
   "cell_type": "code",
   "execution_count": 150,
   "metadata": {},
   "outputs": [
    {
     "data": {
      "image/png": "[encoded data removed]",
      "text/plain": [
       "<Figure size 400x200 with 1 Axes>"
      ]
     },
     "metadata": {},
     "output_type": "display_data"
    }
   ],
   "source": [
    "plt_ = plt.figure(figsize=(4, 2))\n",
    "plt.plot(x,x**3/100,color='green')\n",
    "plt.show()"
   ]
  },
  {
   "cell_type": "code",
   "execution_count": 151,
   "metadata": {},
   "outputs": [
    {
     "data": {
      "image/png": "[encoded data removed]",
      "text/plain": [
       "<Figure size 400x200 with 1 Axes>"
      ]
     },
     "metadata": {},
     "output_type": "display_data"
    }
   ],
   "source": [
    "plt_ = plt.figure(figsize=(4, 2))\n",
    "plt.plot(x,np.sin(x),color='red')\n",
    "plt.show()"
   ]
  },
  {
   "cell_type": "code",
   "execution_count": 152,
   "metadata": {},
   "outputs": [
    {
     "data": {
      "image/png": "[encoded data removed]",
      "text/plain": [
       "<Figure size 400x200 with 1 Axes>"
      ]
     },
     "metadata": {},
     "output_type": "display_data"
    }
   ],
   "source": [
    "plt_ = plt.figure(figsize=(4, 2))\n",
    "plt.plot(x,np.sin(x)/x,color='red')\n",
    "plt.show()"
   ]
  },
  {
   "cell_type": "code",
   "execution_count": 153,
   "metadata": {},
   "outputs": [
    {
     "data": {
      "image/png": "[encoded data removed]",
      "text/plain": [
       "<Figure size 400x200 with 1 Axes>"
      ]
     },
     "metadata": {},
     "output_type": "display_data"
    }
   ],
   "source": [
    "plt_ = plt.figure(figsize=(4, 2))\n",
    "plt.plot(x,np.log(x),color='red')\n",
    "plt.show()"
   ]
  },
  {
   "cell_type": "code",
   "execution_count": 154,
   "metadata": {},
   "outputs": [
    {
     "data": {
      "image/png": "[encoded data removed]",
      "text/plain": [
       "<Figure size 1000x500 with 1 Axes>"
      ]
     },
     "metadata": {},
     "output_type": "display_data"
    }
   ],
   "source": [
    "plt_ = plt.figure(figsize=(10, 5))\n",
    "plt.plot(x,np.exp(x),color='blue')\n",
    "plt.show()\n",
    "#the scale of y axis gives a correct sense of the graph's nature "
   ]
  },
  {
   "cell_type": "markdown",
   "metadata": {},
   "source": [
    "## Question 10\n",
    "Using numpy generate a matrix of size 20X5 containing random numbers drawn uniformly from the range of 1 to 2. Using Pandas create a dataframe out of this matrix. Name the columns of the dataframe as “a”, “b”, “c”, “d”, “e”. Find the column with the highest standard deviation. Find the row with the lowest mean.\n",
    "## solution\n"
   ]
  },
  {
   "cell_type": "code",
   "execution_count": 155,
   "metadata": {},
   "outputs": [
    {
     "data": {
      "text/plain": [
       "array([[1.06584948, 1.94022584, 1.34509134, 1.1612339 , 1.41648531],\n",
       "       [1.6792049 , 1.98130038, 1.12232387, 1.66563092, 1.76147272],\n",
       "       [1.9946071 , 1.10688055, 1.17393547, 1.62618171, 1.51123382],\n",
       "       [1.10526205, 1.86697145, 1.28937366, 1.30892912, 1.17664063]])"
      ]
     },
     "execution_count": 155,
     "metadata": {},
     "output_type": "execute_result"
    }
   ],
   "source": [
    "cols = ['a','b','c','d','e']\n",
    "array = np.random.rand(20,5)+1\n",
    "array[:4]"
   ]
  },
  {
   "cell_type": "code",
   "execution_count": 156,
   "metadata": {},
   "outputs": [
    {
     "data": {
      "text/html": [
       "<div>\n",
       "<style scoped>\n",
       "    .dataframe tbody tr th:only-of-type {\n",
       "        vertical-align: middle;\n",
       "    }\n",
       "\n",
       "    .dataframe tbody tr th {\n",
       "        vertical-align: top;\n",
       "    }\n",
       "\n",
       "    .dataframe thead th {\n",
       "        text-align: right;\n",
       "    }\n",
       "</style>\n",
       "<table border=\"1\" class=\"dataframe\">\n",
       "  <thead>\n",
       "    <tr style=\"text-align: right;\">\n",
       "      <th></th>\n",
       "      <th>a</th>\n",
       "      <th>b</th>\n",
       "      <th>c</th>\n",
       "      <th>d</th>\n",
       "      <th>e</th>\n",
       "    </tr>\n",
       "  </thead>\n",
       "  <tbody>\n",
       "    <tr>\n",
       "      <th>0</th>\n",
       "      <td>1.065849</td>\n",
       "      <td>1.940226</td>\n",
       "      <td>1.345091</td>\n",
       "      <td>1.161234</td>\n",
       "      <td>1.416485</td>\n",
       "    </tr>\n",
       "    <tr>\n",
       "      <th>1</th>\n",
       "      <td>1.679205</td>\n",
       "      <td>1.981300</td>\n",
       "      <td>1.122324</td>\n",
       "      <td>1.665631</td>\n",
       "      <td>1.761473</td>\n",
       "    </tr>\n",
       "    <tr>\n",
       "      <th>2</th>\n",
       "      <td>1.994607</td>\n",
       "      <td>1.106881</td>\n",
       "      <td>1.173935</td>\n",
       "      <td>1.626182</td>\n",
       "      <td>1.511234</td>\n",
       "    </tr>\n",
       "    <tr>\n",
       "      <th>3</th>\n",
       "      <td>1.105262</td>\n",
       "      <td>1.866971</td>\n",
       "      <td>1.289374</td>\n",
       "      <td>1.308929</td>\n",
       "      <td>1.176641</td>\n",
       "    </tr>\n",
       "    <tr>\n",
       "      <th>4</th>\n",
       "      <td>1.984123</td>\n",
       "      <td>1.970174</td>\n",
       "      <td>1.462121</td>\n",
       "      <td>1.406217</td>\n",
       "      <td>1.530495</td>\n",
       "    </tr>\n",
       "  </tbody>\n",
       "</table>\n",
       "</div>"
      ],
      "text/plain": [
       "          a         b         c         d         e\n",
       "0  1.065849  1.940226  1.345091  1.161234  1.416485\n",
       "1  1.679205  1.981300  1.122324  1.665631  1.761473\n",
       "2  1.994607  1.106881  1.173935  1.626182  1.511234\n",
       "3  1.105262  1.866971  1.289374  1.308929  1.176641\n",
       "4  1.984123  1.970174  1.462121  1.406217  1.530495"
      ]
     },
     "execution_count": 156,
     "metadata": {},
     "output_type": "execute_result"
    }
   ],
   "source": [
    "df = pd.DataFrame(array,columns= cols)\n",
    "df.head()"
   ]
  },
  {
   "cell_type": "markdown",
   "metadata": {},
   "source": [
    "Std deviation formula: \n",
    "$s = \\sqrt{\\frac{1}{N-1} \\sum_{i=1}^{N} (x_i - \\bar{x})^2}$\n"
   ]
  },
  {
   "cell_type": "code",
   "execution_count": 157,
   "metadata": {},
   "outputs": [
    {
     "data": {
      "text/html": [
       "<div>\n",
       "<style scoped>\n",
       "    .dataframe tbody tr th:only-of-type {\n",
       "        vertical-align: middle;\n",
       "    }\n",
       "\n",
       "    .dataframe tbody tr th {\n",
       "        vertical-align: top;\n",
       "    }\n",
       "\n",
       "    .dataframe thead th {\n",
       "        text-align: right;\n",
       "    }\n",
       "</style>\n",
       "<table border=\"1\" class=\"dataframe\">\n",
       "  <thead>\n",
       "    <tr style=\"text-align: right;\">\n",
       "      <th></th>\n",
       "      <th>a</th>\n",
       "      <th>b</th>\n",
       "      <th>c</th>\n",
       "      <th>d</th>\n",
       "      <th>e</th>\n",
       "      <th>mean</th>\n",
       "    </tr>\n",
       "  </thead>\n",
       "  <tbody>\n",
       "    <tr>\n",
       "      <th>0</th>\n",
       "      <td>1.065849</td>\n",
       "      <td>1.940226</td>\n",
       "      <td>1.345091</td>\n",
       "      <td>1.161234</td>\n",
       "      <td>1.416485</td>\n",
       "      <td>1.385777</td>\n",
       "    </tr>\n",
       "    <tr>\n",
       "      <th>1</th>\n",
       "      <td>1.679205</td>\n",
       "      <td>1.981300</td>\n",
       "      <td>1.122324</td>\n",
       "      <td>1.665631</td>\n",
       "      <td>1.761473</td>\n",
       "      <td>1.641987</td>\n",
       "    </tr>\n",
       "    <tr>\n",
       "      <th>2</th>\n",
       "      <td>1.994607</td>\n",
       "      <td>1.106881</td>\n",
       "      <td>1.173935</td>\n",
       "      <td>1.626182</td>\n",
       "      <td>1.511234</td>\n",
       "      <td>1.482568</td>\n",
       "    </tr>\n",
       "    <tr>\n",
       "      <th>3</th>\n",
       "      <td>1.105262</td>\n",
       "      <td>1.866971</td>\n",
       "      <td>1.289374</td>\n",
       "      <td>1.308929</td>\n",
       "      <td>1.176641</td>\n",
       "      <td>1.349435</td>\n",
       "    </tr>\n",
       "    <tr>\n",
       "      <th>4</th>\n",
       "      <td>1.984123</td>\n",
       "      <td>1.970174</td>\n",
       "      <td>1.462121</td>\n",
       "      <td>1.406217</td>\n",
       "      <td>1.530495</td>\n",
       "      <td>1.670626</td>\n",
       "    </tr>\n",
       "  </tbody>\n",
       "</table>\n",
       "</div>"
      ],
      "text/plain": [
       "          a         b         c         d         e      mean\n",
       "0  1.065849  1.940226  1.345091  1.161234  1.416485  1.385777\n",
       "1  1.679205  1.981300  1.122324  1.665631  1.761473  1.641987\n",
       "2  1.994607  1.106881  1.173935  1.626182  1.511234  1.482568\n",
       "3  1.105262  1.866971  1.289374  1.308929  1.176641  1.349435\n",
       "4  1.984123  1.970174  1.462121  1.406217  1.530495  1.670626"
      ]
     },
     "execution_count": 157,
     "metadata": {},
     "output_type": "execute_result"
    }
   ],
   "source": [
    "df[\"mean\"] = df.loc[:,cols].mean(axis=1)\n",
    "df.head()"
   ]
  },
  {
   "cell_type": "code",
   "execution_count": 158,
   "metadata": {},
   "outputs": [
    {
     "name": "stdout",
     "output_type": "stream",
     "text": [
      "the column with the highest std is: \n",
      "a\n",
      "\n",
      "the row with the lowest mean is : \n",
      "a       1.052506\n",
      "b       1.317179\n",
      "c       1.504343\n",
      "d       1.340918\n",
      "e       1.347476\n",
      "mean    1.312485\n",
      "Name: 15, dtype: float64\n",
      "index:15\n"
     ]
    }
   ],
   "source": [
    "index_std_highest = 0 #column\n",
    "index_mean_lowest = 0 #row \n",
    "\n",
    "std_list = list(df.std(axis=0)[:-1]) # excluding the column containing mean\n",
    "max_std = 0 \n",
    "for i in range(len(cols)):\n",
    "    if std_list[i]>std_list[index_std_highest]:\n",
    "        index_std_highest = i\n",
    "\n",
    "print(\"the column with the highest std is: \")\n",
    "print(cols[index_std_highest])\n",
    "\n",
    "min_mean=0\n",
    "for i in range(df.shape[0]):\n",
    "    if df.iloc[i,5]<df.iloc[index_mean_lowest,5]:\n",
    "        index_mean_lowest = i\n",
    "\n",
    "\n",
    "print(\"\\nthe row with the lowest mean is : \")\n",
    "print(df.iloc[index_mean_lowest,:])\n",
    "print(\"index:\"+str(index_mean_lowest))"
   ]
  },
  {
   "cell_type": "markdown",
   "metadata": {},
   "source": [
    "## Question 11\n",
    "\n",
    "Add a new column to the dataframe called “f” which is the sum of the columns “a”, “b”, “c”, “d”, “e”. Create another column called “g”. The value in the column “g” should be “LT8” if the value in the column “f” is less than 8 and “GT8” otherwise. Find the number of rows in the dataframe where the value in the column “g” is “LT8”. Find the standard deviation of the column “f” for the rows where the value in the column “g” is “LT8” and “GT8” respectively.\n",
    "\n",
    "## Solution"
   ]
  },
  {
   "cell_type": "code",
   "execution_count": 159,
   "metadata": {},
   "outputs": [
    {
     "data": {
      "text/html": [
       "<div>\n",
       "<style scoped>\n",
       "    .dataframe tbody tr th:only-of-type {\n",
       "        vertical-align: middle;\n",
       "    }\n",
       "\n",
       "    .dataframe tbody tr th {\n",
       "        vertical-align: top;\n",
       "    }\n",
       "\n",
       "    .dataframe thead th {\n",
       "        text-align: right;\n",
       "    }\n",
       "</style>\n",
       "<table border=\"1\" class=\"dataframe\">\n",
       "  <thead>\n",
       "    <tr style=\"text-align: right;\">\n",
       "      <th></th>\n",
       "      <th>a</th>\n",
       "      <th>b</th>\n",
       "      <th>c</th>\n",
       "      <th>d</th>\n",
       "      <th>e</th>\n",
       "      <th>mean</th>\n",
       "      <th>f</th>\n",
       "    </tr>\n",
       "  </thead>\n",
       "  <tbody>\n",
       "    <tr>\n",
       "      <th>0</th>\n",
       "      <td>1.065849</td>\n",
       "      <td>1.940226</td>\n",
       "      <td>1.345091</td>\n",
       "      <td>1.161234</td>\n",
       "      <td>1.416485</td>\n",
       "      <td>1.385777</td>\n",
       "      <td>6.928886</td>\n",
       "    </tr>\n",
       "    <tr>\n",
       "      <th>1</th>\n",
       "      <td>1.679205</td>\n",
       "      <td>1.981300</td>\n",
       "      <td>1.122324</td>\n",
       "      <td>1.665631</td>\n",
       "      <td>1.761473</td>\n",
       "      <td>1.641987</td>\n",
       "      <td>8.209933</td>\n",
       "    </tr>\n",
       "    <tr>\n",
       "      <th>2</th>\n",
       "      <td>1.994607</td>\n",
       "      <td>1.106881</td>\n",
       "      <td>1.173935</td>\n",
       "      <td>1.626182</td>\n",
       "      <td>1.511234</td>\n",
       "      <td>1.482568</td>\n",
       "      <td>7.412839</td>\n",
       "    </tr>\n",
       "    <tr>\n",
       "      <th>3</th>\n",
       "      <td>1.105262</td>\n",
       "      <td>1.866971</td>\n",
       "      <td>1.289374</td>\n",
       "      <td>1.308929</td>\n",
       "      <td>1.176641</td>\n",
       "      <td>1.349435</td>\n",
       "      <td>6.747177</td>\n",
       "    </tr>\n",
       "    <tr>\n",
       "      <th>4</th>\n",
       "      <td>1.984123</td>\n",
       "      <td>1.970174</td>\n",
       "      <td>1.462121</td>\n",
       "      <td>1.406217</td>\n",
       "      <td>1.530495</td>\n",
       "      <td>1.670626</td>\n",
       "      <td>8.353129</td>\n",
       "    </tr>\n",
       "  </tbody>\n",
       "</table>\n",
       "</div>"
      ],
      "text/plain": [
       "          a         b         c         d         e      mean         f\n",
       "0  1.065849  1.940226  1.345091  1.161234  1.416485  1.385777  6.928886\n",
       "1  1.679205  1.981300  1.122324  1.665631  1.761473  1.641987  8.209933\n",
       "2  1.994607  1.106881  1.173935  1.626182  1.511234  1.482568  7.412839\n",
       "3  1.105262  1.866971  1.289374  1.308929  1.176641  1.349435  6.747177\n",
       "4  1.984123  1.970174  1.462121  1.406217  1.530495  1.670626  8.353129"
      ]
     },
     "execution_count": 159,
     "metadata": {},
     "output_type": "execute_result"
    }
   ],
   "source": [
    "df[\"f\"] = df[cols].sum(axis=1)\n",
    "df.head()"
   ]
  },
  {
   "cell_type": "code",
   "execution_count": 160,
   "metadata": {},
   "outputs": [
    {
     "data": {
      "text/html": [
       "<div>\n",
       "<style scoped>\n",
       "    .dataframe tbody tr th:only-of-type {\n",
       "        vertical-align: middle;\n",
       "    }\n",
       "\n",
       "    .dataframe tbody tr th {\n",
       "        vertical-align: top;\n",
       "    }\n",
       "\n",
       "    .dataframe thead th {\n",
       "        text-align: right;\n",
       "    }\n",
       "</style>\n",
       "<table border=\"1\" class=\"dataframe\">\n",
       "  <thead>\n",
       "    <tr style=\"text-align: right;\">\n",
       "      <th></th>\n",
       "      <th>a</th>\n",
       "      <th>b</th>\n",
       "      <th>c</th>\n",
       "      <th>d</th>\n",
       "      <th>e</th>\n",
       "      <th>mean</th>\n",
       "      <th>f</th>\n",
       "      <th>g</th>\n",
       "    </tr>\n",
       "  </thead>\n",
       "  <tbody>\n",
       "    <tr>\n",
       "      <th>0</th>\n",
       "      <td>1.065849</td>\n",
       "      <td>1.940226</td>\n",
       "      <td>1.345091</td>\n",
       "      <td>1.161234</td>\n",
       "      <td>1.416485</td>\n",
       "      <td>1.385777</td>\n",
       "      <td>6.928886</td>\n",
       "      <td>LT8</td>\n",
       "    </tr>\n",
       "    <tr>\n",
       "      <th>1</th>\n",
       "      <td>1.679205</td>\n",
       "      <td>1.981300</td>\n",
       "      <td>1.122324</td>\n",
       "      <td>1.665631</td>\n",
       "      <td>1.761473</td>\n",
       "      <td>1.641987</td>\n",
       "      <td>8.209933</td>\n",
       "      <td>GT8</td>\n",
       "    </tr>\n",
       "    <tr>\n",
       "      <th>2</th>\n",
       "      <td>1.994607</td>\n",
       "      <td>1.106881</td>\n",
       "      <td>1.173935</td>\n",
       "      <td>1.626182</td>\n",
       "      <td>1.511234</td>\n",
       "      <td>1.482568</td>\n",
       "      <td>7.412839</td>\n",
       "      <td>LT8</td>\n",
       "    </tr>\n",
       "    <tr>\n",
       "      <th>3</th>\n",
       "      <td>1.105262</td>\n",
       "      <td>1.866971</td>\n",
       "      <td>1.289374</td>\n",
       "      <td>1.308929</td>\n",
       "      <td>1.176641</td>\n",
       "      <td>1.349435</td>\n",
       "      <td>6.747177</td>\n",
       "      <td>LT8</td>\n",
       "    </tr>\n",
       "    <tr>\n",
       "      <th>4</th>\n",
       "      <td>1.984123</td>\n",
       "      <td>1.970174</td>\n",
       "      <td>1.462121</td>\n",
       "      <td>1.406217</td>\n",
       "      <td>1.530495</td>\n",
       "      <td>1.670626</td>\n",
       "      <td>8.353129</td>\n",
       "      <td>GT8</td>\n",
       "    </tr>\n",
       "  </tbody>\n",
       "</table>\n",
       "</div>"
      ],
      "text/plain": [
       "          a         b         c         d         e      mean         f    g\n",
       "0  1.065849  1.940226  1.345091  1.161234  1.416485  1.385777  6.928886  LT8\n",
       "1  1.679205  1.981300  1.122324  1.665631  1.761473  1.641987  8.209933  GT8\n",
       "2  1.994607  1.106881  1.173935  1.626182  1.511234  1.482568  7.412839  LT8\n",
       "3  1.105262  1.866971  1.289374  1.308929  1.176641  1.349435  6.747177  LT8\n",
       "4  1.984123  1.970174  1.462121  1.406217  1.530495  1.670626  8.353129  GT8"
      ]
     },
     "execution_count": 160,
     "metadata": {},
     "output_type": "execute_result"
    }
   ],
   "source": [
    "def g_allocate(x):\n",
    "    if x < 8:\n",
    "        return \"LT8\"\n",
    "    else:\n",
    "        return \"GT8\"\n",
    "\n",
    "df[\"g\"] = df[\"f\"].apply(g_allocate)\n",
    "df.head()"
   ]
  },
  {
   "cell_type": "code",
   "execution_count": 161,
   "metadata": {},
   "outputs": [
    {
     "name": "stdout",
     "output_type": "stream",
     "text": [
      "\n",
      "the standard deviation of column f for g = LT8 is: \n",
      "0.4146654319131745\n",
      "\n",
      "the standard deviation of column f for g = GT8 is: \n",
      "0.07165175270931194\n"
     ]
    }
   ],
   "source": [
    "df_LT8 = df[df[\"g\"]==\"LT8\"]\n",
    "df_GT8 = df[df[\"g\"]==\"GT8\"]\n",
    "\n",
    "print(\"\\nthe standard deviation of column f for g = LT8 is: \")\n",
    "print(df_LT8[\"f\"].std())\n",
    "print(\"\\nthe standard deviation of column f for g = GT8 is: \")\n",
    "print(df_GT8[\"f\"].std())"
   ]
  },
  {
   "cell_type": "markdown",
   "metadata": {},
   "source": [
    "## Question 12 \n",
    "\n",
    "Write a small piece of code to explain broadcasting in numpy.\n",
    "\n",
    "## Solution\n",
    "\n",
    "In a very crude sense, broadcasting is the innate ability of the numpy library to be able to accomodate mathematical (generally matrix) calculations/computations, of variables/arrays that are of different dimensions. A very simple example could be the addition of a matrix to a scalar. \n",
    "\n",
    "In genral, we know Numpy arrays are more efficient than for loops, this is attributed to vectorization.  One such functionality/feature that aids it is broadcasting. "
   ]
  },
  {
   "cell_type": "code",
   "execution_count": 162,
   "metadata": {},
   "outputs": [
    {
     "data": {
      "text/plain": [
       "array([[6, 8, 3, 8],\n",
       "       [0, 1, 8, 1],\n",
       "       [7, 3, 2, 0]])"
      ]
     },
     "execution_count": 162,
     "metadata": {},
     "output_type": "execute_result"
    }
   ],
   "source": [
    "arr = np.random.randint(10,size=(3,4)) #10 indicates the upper bound, 0 is the lower bound\n",
    "#we have defined a 3*4 matrix with integers. \n",
    "arr"
   ]
  },
  {
   "cell_type": "code",
   "execution_count": 163,
   "metadata": {},
   "outputs": [],
   "source": [
    "#let us define a scalar with a value\n",
    "b = 2"
   ]
  },
  {
   "cell_type": "markdown",
   "metadata": {},
   "source": [
    "In a mathematical sense, if I were to add this scalar to every element of the matrix, I would have to build a (3,4) sized matrix (the same size as that of the original array), and then add it. However, with Numpy, I need not scale, and I could directly add it to the matrix. Numpy implicilty scales the scalar to the approriate dimension of the matrix for the calculation. "
   ]
  },
  {
   "cell_type": "code",
   "execution_count": 164,
   "metadata": {},
   "outputs": [
    {
     "name": "stdout",
     "output_type": "stream",
     "text": [
      "Broadcasting example with addition\n",
      "\n",
      "[[ 8 10  5 10]\n",
      " [ 2  3 10  3]\n",
      " [ 9  5  4  2]]\n",
      "\n",
      "Broadcasting example with division\n",
      "\n",
      "[[3.  4.  1.5 4. ]\n",
      " [0.  0.5 4.  0.5]\n",
      " [3.5 1.5 1.  0. ]]\n"
     ]
    }
   ],
   "source": [
    "print(\"Broadcasting example with addition\\n\")\n",
    "answer = arr + b \n",
    "print(answer) \n",
    "\n",
    "print(\"\\nBroadcasting example with division\\n\")\n",
    "# or alternatively\n",
    "answer = arr/b\n",
    "print(answer) "
   ]
  },
  {
   "cell_type": "markdown",
   "metadata": {},
   "source": [
    "## Question 13 \n",
    "Write a function to compute the argmin of a numpy array. The function should take a numpy array as input and return the index of the minimum element. You can use the np.argmin function to verify your solution.\n",
    "\n",
    "## Solution"
   ]
  },
  {
   "cell_type": "code",
   "execution_count": 165,
   "metadata": {},
   "outputs": [
    {
     "name": "stdout",
     "output_type": "stream",
     "text": [
      "[[2 2 5 3]\n",
      " [5 3 4 1]\n",
      " [7 5 9 9]]\n"
     ]
    }
   ],
   "source": [
    "arr_q13 = np.random.randint(10, size=(3,4))\n",
    "print(arr_q13)"
   ]
  },
  {
   "cell_type": "code",
   "execution_count": 166,
   "metadata": {},
   "outputs": [
    {
     "name": "stdout",
     "output_type": "stream",
     "text": [
      "Greatest minima of the array (self method): \n",
      "7\n",
      "Greatest minima of the array (np.argmin method): \n",
      "7\n"
     ]
    }
   ],
   "source": [
    "def argmin_alt(arr):\n",
    "    flat_arr = arr.flatten()\n",
    "\n",
    "    #finding smallest number \n",
    "    num = float('inf')\n",
    "    index = 0\n",
    "\n",
    "    for i in flat_arr:\n",
    "        if i<num:\n",
    "            num=i\n",
    "            index_min = index\n",
    "        index+=1\n",
    "\n",
    "    return index_min\n",
    "\n",
    "print(\"Greatest minima of the array (self method): \")\n",
    "print(argmin_alt(arr_q13))\n",
    "\n",
    "print(\"Greatest minima of the array (np.argmin method): \")\n",
    "print(np.argmin(arr_q13))\n",
    "\n",
    "#without axis the output is for flattened out array\n"
   ]
  },
  {
   "cell_type": "code",
   "execution_count": 167,
   "metadata": {},
   "outputs": [],
   "source": [
    "#with axis and 2D array\n",
    "\n",
    "def argmin_alt_two(arr, axis=None):\n",
    "    if len(arr.shape) > 2:\n",
    "        return \"Array inputed is not less than 2D\"\n",
    "    elif len(arr.shape) >= 1 and axis == None:\n",
    "        return argmin_alt(arr)\n",
    "    else:\n",
    "        dim = arr.shape\n",
    "\n",
    "        #min element of a row for axis = 1\n",
    "        if axis == 1: \n",
    "            answer = np.zeros(dim[0])\n",
    "\n",
    "            for i in range(dim[0]):\n",
    "                row = arr[i]\n",
    "                index = 0\n",
    "                min = float('inf')\n",
    "\n",
    "                for element in range(len(row)):\n",
    "                    if row[element]<min:\n",
    "                        min = row[element]\n",
    "                        index = element\n",
    "                \n",
    "                answer[i] = index\n",
    "            return answer.astype('int')\n",
    "        else:\n",
    "            answer = np.zeros(dim[1])\n",
    "            arr_trans = arr.transpose() #since now we are finding min element of a column \n",
    "\n",
    "            for i in range(dim[1]):\n",
    "                row = arr_trans[i]\n",
    "                index = 0\n",
    "                min = float('inf')\n",
    "\n",
    "                for element in range(len(row)):\n",
    "                    if row[element]<min:\n",
    "                        min = row[element]\n",
    "                        index = element\n",
    "                \n",
    "                answer[i] = index\n",
    "            return answer.astype('int')\n"
   ]
  },
  {
   "cell_type": "code",
   "execution_count": 168,
   "metadata": {},
   "outputs": [
    {
     "name": "stdout",
     "output_type": "stream",
     "text": [
      "\n",
      "Axis wise and greatest minima using self method: \n",
      "[ 1  1  2 10 12  3 13  2 10  9] [4 1 7 5 6 7 6 3 2 9 8 4 4 6 4] 27\n",
      "\n",
      "Axis wise and greatest minima using np.argmin method: \n",
      "[ 1  1  2 10 12  3 13  2 10  9] [4 1 7 5 6 7 6 3 2 9 8 4 4 6 4] 27\n"
     ]
    }
   ],
   "source": [
    "#Testing (only 2D or less)\n",
    "\n",
    "one_d = 15\n",
    "two_d = 10\n",
    "\n",
    "check_arr = np.random.randint(100, size=(one_d,two_d))\n",
    "\n",
    "print(\"\\nAxis wise and greatest minima using self method: \")\n",
    "print(argmin_alt_two(check_arr, axis = 0), argmin_alt_two(check_arr, axis = 1), argmin_alt_two(check_arr))\n",
    "\n",
    "print(\"\\nAxis wise and greatest minima using np.argmin method: \")\n",
    "print(np.argmin(check_arr,axis=0), np.argmin(check_arr,axis=1), np.argmin(check_arr))"
   ]
  }
 ],
 "metadata": {
  "kernelspec": {
   "display_name": "Python 3",
   "language": "python",
   "name": "python3"
  },
  "language_info": {
   "codemirror_mode": {
    "name": "ipython",
    "version": 3
   },
   "file_extension": ".py",
   "mimetype": "text/x-python",
   "name": "python",
   "nbconvert_exporter": "python",
   "pygments_lexer": "ipython3",
   "version": "3.12.0"
  }
 },
 "nbformat": 4,
 "nbformat_minor": 2
}
